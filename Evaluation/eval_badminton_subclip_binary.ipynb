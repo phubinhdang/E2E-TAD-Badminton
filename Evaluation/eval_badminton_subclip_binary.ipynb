{
 "cells": [
  {
   "cell_type": "code",
   "id": "initial_id",
   "metadata": {
    "collapsed": true,
    "ExecuteTime": {
     "end_time": "2024-10-09T11:49:44.234089Z",
     "start_time": "2024-10-09T11:49:43.498618Z"
    }
   },
   "source": [
    "import json\n",
    "\n",
    "from torch.nn.quantized.functional import threshold\n",
    "\n",
    "with open('../data/output/lanier_qi_match/detection_raw.json') as f:\n",
    "    d = json.load(f)    "
   ],
   "outputs": [
    {
     "name": "stderr",
     "output_type": "stream",
     "text": [
      "/home/dabi/miniconda3/envs/e2etad/lib/python3.8/site-packages/tqdm/auto.py:21: TqdmWarning: IProgress not found. Please update jupyter and ipywidgets. See https://ipywidgets.readthedocs.io/en/stable/user_install.html\n",
      "  from .autonotebook import tqdm as notebook_tqdm\n"
     ]
    }
   ],
   "execution_count": 1
  },
  {
   "cell_type": "code",
   "id": "35ea45e60e36f0a7",
   "metadata": {
    "ExecuteTime": {
     "end_time": "2024-10-09T11:49:44.247665Z",
     "start_time": "2024-10-09T11:49:44.242417Z"
    }
   },
   "source": [
    "pred_segs = []\n",
    "for i, (video_id, segs) in enumerate(d['results'].items()):\n",
    "    for seg in segs:\n",
    "        start = seg['segment'][0]\n",
    "        end = seg['segment'][1]\n",
    "        score = seg['score']\n",
    "        pred_segs.append({'video_id': video_id,\n",
    "                          'start': start,\n",
    "                          'end': end,\n",
    "                          'score': score})"
   ],
   "outputs": [],
   "execution_count": 2
  },
  {
   "cell_type": "code",
   "id": "6eefb2b1a08b8484",
   "metadata": {
    "ExecuteTime": {
     "end_time": "2024-10-09T11:49:44.514574Z",
     "start_time": "2024-10-09T11:49:44.306201Z"
    }
   },
   "source": [
    "import pandas as pd\n",
    "\n",
    "df = pd.DataFrame(pred_segs)\n",
    "df"
   ],
   "outputs": [
    {
     "data": {
      "text/plain": [
       "           video_id       start         end     score\n",
       "0     lanier_qi_000   13.273894   18.472301  0.939411\n",
       "1     lanier_qi_000   17.826180   19.804253  0.031449\n",
       "2     lanier_qi_000   12.896260   18.177935  0.013308\n",
       "3     lanier_qi_000    7.744884   10.363749  0.013253\n",
       "4     lanier_qi_000   23.604519   29.459990  0.935672\n",
       "...             ...         ...         ...       ...\n",
       "1315  lanier_qi_032  180.214237  185.131889  0.060906\n",
       "1316  lanier_qi_033   13.258145   16.969303  0.928833\n",
       "1317  lanier_qi_033   13.845067   17.030413  0.075975\n",
       "1318  lanier_qi_033   18.880171   20.624619  0.054611\n",
       "1319  lanier_qi_033    3.632394    5.537689  0.019623\n",
       "\n",
       "[1320 rows x 4 columns]"
      ],
      "text/html": [
       "<div>\n",
       "<style scoped>\n",
       "    .dataframe tbody tr th:only-of-type {\n",
       "        vertical-align: middle;\n",
       "    }\n",
       "\n",
       "    .dataframe tbody tr th {\n",
       "        vertical-align: top;\n",
       "    }\n",
       "\n",
       "    .dataframe thead th {\n",
       "        text-align: right;\n",
       "    }\n",
       "</style>\n",
       "<table border=\"1\" class=\"dataframe\">\n",
       "  <thead>\n",
       "    <tr style=\"text-align: right;\">\n",
       "      <th></th>\n",
       "      <th>video_id</th>\n",
       "      <th>start</th>\n",
       "      <th>end</th>\n",
       "      <th>score</th>\n",
       "    </tr>\n",
       "  </thead>\n",
       "  <tbody>\n",
       "    <tr>\n",
       "      <th>0</th>\n",
       "      <td>lanier_qi_000</td>\n",
       "      <td>13.273894</td>\n",
       "      <td>18.472301</td>\n",
       "      <td>0.939411</td>\n",
       "    </tr>\n",
       "    <tr>\n",
       "      <th>1</th>\n",
       "      <td>lanier_qi_000</td>\n",
       "      <td>17.826180</td>\n",
       "      <td>19.804253</td>\n",
       "      <td>0.031449</td>\n",
       "    </tr>\n",
       "    <tr>\n",
       "      <th>2</th>\n",
       "      <td>lanier_qi_000</td>\n",
       "      <td>12.896260</td>\n",
       "      <td>18.177935</td>\n",
       "      <td>0.013308</td>\n",
       "    </tr>\n",
       "    <tr>\n",
       "      <th>3</th>\n",
       "      <td>lanier_qi_000</td>\n",
       "      <td>7.744884</td>\n",
       "      <td>10.363749</td>\n",
       "      <td>0.013253</td>\n",
       "    </tr>\n",
       "    <tr>\n",
       "      <th>4</th>\n",
       "      <td>lanier_qi_000</td>\n",
       "      <td>23.604519</td>\n",
       "      <td>29.459990</td>\n",
       "      <td>0.935672</td>\n",
       "    </tr>\n",
       "    <tr>\n",
       "      <th>...</th>\n",
       "      <td>...</td>\n",
       "      <td>...</td>\n",
       "      <td>...</td>\n",
       "      <td>...</td>\n",
       "    </tr>\n",
       "    <tr>\n",
       "      <th>1315</th>\n",
       "      <td>lanier_qi_032</td>\n",
       "      <td>180.214237</td>\n",
       "      <td>185.131889</td>\n",
       "      <td>0.060906</td>\n",
       "    </tr>\n",
       "    <tr>\n",
       "      <th>1316</th>\n",
       "      <td>lanier_qi_033</td>\n",
       "      <td>13.258145</td>\n",
       "      <td>16.969303</td>\n",
       "      <td>0.928833</td>\n",
       "    </tr>\n",
       "    <tr>\n",
       "      <th>1317</th>\n",
       "      <td>lanier_qi_033</td>\n",
       "      <td>13.845067</td>\n",
       "      <td>17.030413</td>\n",
       "      <td>0.075975</td>\n",
       "    </tr>\n",
       "    <tr>\n",
       "      <th>1318</th>\n",
       "      <td>lanier_qi_033</td>\n",
       "      <td>18.880171</td>\n",
       "      <td>20.624619</td>\n",
       "      <td>0.054611</td>\n",
       "    </tr>\n",
       "    <tr>\n",
       "      <th>1319</th>\n",
       "      <td>lanier_qi_033</td>\n",
       "      <td>3.632394</td>\n",
       "      <td>5.537689</td>\n",
       "      <td>0.019623</td>\n",
       "    </tr>\n",
       "  </tbody>\n",
       "</table>\n",
       "<p>1320 rows × 4 columns</p>\n",
       "</div>"
      ]
     },
     "execution_count": 3,
     "metadata": {},
     "output_type": "execute_result"
    }
   ],
   "execution_count": 3
  },
  {
   "cell_type": "code",
   "id": "38f7bc3427332a3b",
   "metadata": {
    "ExecuteTime": {
     "end_time": "2024-10-09T11:49:44.561270Z",
     "start_time": "2024-10-09T11:49:44.557121Z"
    }
   },
   "source": [
    "threshold = 0.0\n",
    "df_threshold = df[df['score'] > threshold]"
   ],
   "outputs": [],
   "execution_count": 4
  },
  {
   "cell_type": "code",
   "id": "bf8a5e9f9373c704",
   "metadata": {
    "ExecuteTime": {
     "end_time": "2024-10-09T11:49:44.581453Z",
     "start_time": "2024-10-09T11:49:44.572547Z"
    }
   },
   "source": [
    "def ss_to_mmss(seconds):\n",
    "    minutes = int(seconds // 60)\n",
    "    seconds = int(seconds % 60)\n",
    "    return f\"{minutes:02}:{seconds:02}\"\n",
    "\n",
    "\n",
    "# Create a new column with the mm:ss format\n",
    "df_threshold['start_mmss'] = df_threshold['start'].apply(ss_to_mmss)\n",
    "df_threshold['end_mmss'] = df_threshold['end'].apply(ss_to_mmss)"
   ],
   "outputs": [],
   "execution_count": 5
  },
  {
   "cell_type": "code",
   "id": "283ddbf404cfd18d",
   "metadata": {
    "ExecuteTime": {
     "end_time": "2024-10-09T11:49:44.654051Z",
     "start_time": "2024-10-09T11:49:44.648482Z"
    }
   },
   "source": "df_threshold['score']",
   "outputs": [
    {
     "data": {
      "text/plain": [
       "0       0.939411\n",
       "1       0.031449\n",
       "2       0.013308\n",
       "3       0.013253\n",
       "4       0.935672\n",
       "          ...   \n",
       "1315    0.060906\n",
       "1316    0.928833\n",
       "1317    0.075975\n",
       "1318    0.054611\n",
       "1319    0.019623\n",
       "Name: score, Length: 1320, dtype: float64"
      ]
     },
     "execution_count": 6,
     "metadata": {},
     "output_type": "execute_result"
    }
   ],
   "execution_count": 6
  },
  {
   "cell_type": "code",
   "id": "627832db5246019c",
   "metadata": {
    "ExecuteTime": {
     "end_time": "2024-10-09T11:49:45.932561Z",
     "start_time": "2024-10-09T11:49:44.808811Z"
    }
   },
   "source": [
    "import matplotlib.pyplot as plt\n",
    "plt.plot(df_threshold['score'], \".\")"
   ],
   "outputs": [
    {
     "data": {
      "text/plain": [
       "[<matplotlib.lines.Line2D at 0x79dd19d71370>]"
      ]
     },
     "execution_count": 7,
     "metadata": {},
     "output_type": "execute_result"
    },
    {
     "data": {
      "text/plain": [
       "<Figure size 640x480 with 1 Axes>"
      ],
      "image/png": "[encoded data removed]"
     },
     "metadata": {},
     "output_type": "display_data"
    }
   ],
   "execution_count": 7
  },
  {
   "cell_type": "code",
   "id": "4669e771",
   "metadata": {
    "ExecuteTime": {
     "end_time": "2024-10-09T11:49:46.028365Z",
     "start_time": "2024-10-09T11:49:46.022238Z"
    }
   },
   "source": [
    "# manual, by eys\n",
    "# based on ground truth x = 0.5, 0.6 -> y = AP0.95\n",
    "# \n",
    "# otsu method"
   ],
   "outputs": [],
   "execution_count": null
  }
 ],
 "metadata": {
  "kernelspec": {
   "display_name": "e2etad",
   "language": "python",
   "name": "python3"
  },
  "language_info": {
   "codemirror_mode": {
    "name": "ipython",
    "version": 3
   },
   "file_extension": ".py",
   "mimetype": "text/x-python",
   "name": "python",
   "nbconvert_exporter": "python",
   "pygments_lexer": "ipython3",
   "version": "3.8.19"
  }
 },
 "nbformat": 4,
 "nbformat_minor": 5
}
