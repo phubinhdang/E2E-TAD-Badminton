{
 "cells": [
  {
   "cell_type": "code",
   "execution_count": 103,
   "id": "initial_id",
   "metadata": {
    "ExecuteTime": {
     "end_time": "2024-10-09T11:49:44.234089Z",
     "start_time": "2024-10-09T11:49:43.498618Z"
    },
    "collapsed": true
   },
   "outputs": [],
   "source": [
    "import json\n",
    "\n",
    "from torch.nn.quantized.functional import threshold\n",
    "\n",
    "with open('../data/output/full_match_binary/detection_raw.json') as f:\n",
    "    d = json.load(f)    "
   ]
  },
  {
   "cell_type": "code",
   "execution_count": 104,
   "id": "35ea45e60e36f0a7",
   "metadata": {
    "ExecuteTime": {
     "end_time": "2024-10-09T11:49:44.247665Z",
     "start_time": "2024-10-09T11:49:44.242417Z"
    }
   },
   "outputs": [],
   "source": [
    "pred_segs = []\n",
    "segs = d[\"results\"][\"ginting_axelsen\"]\n",
    "for seg in segs:\n",
    "    pred_segs.append({\"start\": seg[\"segment\"][0], \"end\": seg[\"segment\"][1], \"score\": seg[\"score\"]})"
   ]
  },
  {
   "cell_type": "code",
   "execution_count": 105,
   "id": "6eefb2b1a08b8484",
   "metadata": {
    "ExecuteTime": {
     "end_time": "2024-10-09T11:49:44.514574Z",
     "start_time": "2024-10-09T11:49:44.306201Z"
    }
   },
   "outputs": [
    {
     "data": {
      "text/html": [
       "<div>\n",
       "<style scoped>\n",
       "    .dataframe tbody tr th:only-of-type {\n",
       "        vertical-align: middle;\n",
       "    }\n",
       "\n",
       "    .dataframe tbody tr th {\n",
       "        vertical-align: top;\n",
       "    }\n",
       "\n",
       "    .dataframe thead th {\n",
       "        text-align: right;\n",
       "    }\n",
       "</style>\n",
       "<table border=\"1\" class=\"dataframe\">\n",
       "  <thead>\n",
       "    <tr style=\"text-align: right;\">\n",
       "      <th></th>\n",
       "      <th>start</th>\n",
       "      <th>end</th>\n",
       "      <th>score</th>\n",
       "    </tr>\n",
       "  </thead>\n",
       "  <tbody>\n",
       "    <tr>\n",
       "      <th>0</th>\n",
       "      <td>16.952456</td>\n",
       "      <td>19.429579</td>\n",
       "      <td>0.495929</td>\n",
       "    </tr>\n",
       "    <tr>\n",
       "      <th>1</th>\n",
       "      <td>19.964354</td>\n",
       "      <td>21.095312</td>\n",
       "      <td>0.022470</td>\n",
       "    </tr>\n",
       "    <tr>\n",
       "      <th>2</th>\n",
       "      <td>3.782256</td>\n",
       "      <td>4.837425</td>\n",
       "      <td>0.012727</td>\n",
       "    </tr>\n",
       "    <tr>\n",
       "      <th>3</th>\n",
       "      <td>13.147326</td>\n",
       "      <td>14.319829</td>\n",
       "      <td>0.005848</td>\n",
       "    </tr>\n",
       "    <tr>\n",
       "      <th>4</th>\n",
       "      <td>22.304107</td>\n",
       "      <td>23.523606</td>\n",
       "      <td>0.022908</td>\n",
       "    </tr>\n",
       "    <tr>\n",
       "      <th>...</th>\n",
       "      <td>...</td>\n",
       "      <td>...</td>\n",
       "      <td>...</td>\n",
       "    </tr>\n",
       "    <tr>\n",
       "      <th>763</th>\n",
       "      <td>3669.414343</td>\n",
       "      <td>3670.638514</td>\n",
       "      <td>0.004158</td>\n",
       "    </tr>\n",
       "    <tr>\n",
       "      <th>764</th>\n",
       "      <td>3679.455417</td>\n",
       "      <td>3680.509092</td>\n",
       "      <td>0.028643</td>\n",
       "    </tr>\n",
       "    <tr>\n",
       "      <th>765</th>\n",
       "      <td>3670.453278</td>\n",
       "      <td>3671.438313</td>\n",
       "      <td>0.012330</td>\n",
       "    </tr>\n",
       "    <tr>\n",
       "      <th>766</th>\n",
       "      <td>3687.867078</td>\n",
       "      <td>3688.946048</td>\n",
       "      <td>0.011876</td>\n",
       "    </tr>\n",
       "    <tr>\n",
       "      <th>767</th>\n",
       "      <td>3688.804162</td>\n",
       "      <td>3689.945588</td>\n",
       "      <td>0.009425</td>\n",
       "    </tr>\n",
       "  </tbody>\n",
       "</table>\n",
       "<p>768 rows × 3 columns</p>\n",
       "</div>"
      ],
      "text/plain": [
       "           start          end     score\n",
       "0      16.952456    19.429579  0.495929\n",
       "1      19.964354    21.095312  0.022470\n",
       "2       3.782256     4.837425  0.012727\n",
       "3      13.147326    14.319829  0.005848\n",
       "4      22.304107    23.523606  0.022908\n",
       "..           ...          ...       ...\n",
       "763  3669.414343  3670.638514  0.004158\n",
       "764  3679.455417  3680.509092  0.028643\n",
       "765  3670.453278  3671.438313  0.012330\n",
       "766  3687.867078  3688.946048  0.011876\n",
       "767  3688.804162  3689.945588  0.009425\n",
       "\n",
       "[768 rows x 3 columns]"
      ]
     },
     "execution_count": 105,
     "metadata": {},
     "output_type": "execute_result"
    }
   ],
   "source": [
    "import pandas as pd\n",
    "\n",
    "df = pd.DataFrame(pred_segs)\n",
    "df"
   ]
  },
  {
   "cell_type": "code",
   "execution_count": 106,
   "id": "38f7bc3427332a3b",
   "metadata": {
    "ExecuteTime": {
     "end_time": "2024-10-09T11:49:44.561270Z",
     "start_time": "2024-10-09T11:49:44.557121Z"
    }
   },
   "outputs": [],
   "source": [
    "threshold = 0.6\n",
    "df = df[df['score'] > threshold]"
   ]
  },
  {
   "cell_type": "code",
   "execution_count": 107,
   "id": "627832db5246019c",
   "metadata": {
    "ExecuteTime": {
     "end_time": "2024-10-09T11:49:45.932561Z",
     "start_time": "2024-10-09T11:49:44.808811Z"
    }
   },
   "outputs": [
    {
     "data": {
      "text/plain": [
       "[<matplotlib.lines.Line2D at 0x79f48ffd0100>]"
      ]
     },
     "execution_count": 107,
     "metadata": {},
     "output_type": "execute_result"
    },
    {
     "data": {
      "image/png": "[encoded data removed]",
      "text/plain": [
       "<Figure size 640x480 with 1 Axes>"
      ]
     },
     "metadata": {},
     "output_type": "display_data"
    }
   ],
   "source": [
    "import matplotlib.pyplot as plt\n",
    "plt.plot(df['score'], \".\")"
   ]
  },
  {
   "cell_type": "code",
   "execution_count": 108,
   "id": "11f939ea",
   "metadata": {},
   "outputs": [
    {
     "data": {
      "text/html": [
       "<div>\n",
       "<style scoped>\n",
       "    .dataframe tbody tr th:only-of-type {\n",
       "        vertical-align: middle;\n",
       "    }\n",
       "\n",
       "    .dataframe tbody tr th {\n",
       "        vertical-align: top;\n",
       "    }\n",
       "\n",
       "    .dataframe thead th {\n",
       "        text-align: right;\n",
       "    }\n",
       "</style>\n",
       "<table border=\"1\" class=\"dataframe\">\n",
       "  <thead>\n",
       "    <tr style=\"text-align: right;\">\n",
       "      <th></th>\n",
       "      <th>start</th>\n",
       "      <th>end</th>\n",
       "      <th>start_hhmmss</th>\n",
       "      <th>end_hhmmss</th>\n",
       "    </tr>\n",
       "  </thead>\n",
       "  <tbody>\n",
       "    <tr>\n",
       "      <th>0</th>\n",
       "      <td>499.886806</td>\n",
       "      <td>502.648100</td>\n",
       "      <td>00:08:19</td>\n",
       "      <td>00:08:22</td>\n",
       "    </tr>\n",
       "    <tr>\n",
       "      <th>1</th>\n",
       "      <td>546.038048</td>\n",
       "      <td>569.220135</td>\n",
       "      <td>00:09:06</td>\n",
       "      <td>00:09:29</td>\n",
       "    </tr>\n",
       "    <tr>\n",
       "      <th>2</th>\n",
       "      <td>585.483085</td>\n",
       "      <td>590.954463</td>\n",
       "      <td>00:09:45</td>\n",
       "      <td>00:09:50</td>\n",
       "    </tr>\n",
       "    <tr>\n",
       "      <th>3</th>\n",
       "      <td>602.695070</td>\n",
       "      <td>616.894206</td>\n",
       "      <td>00:10:02</td>\n",
       "      <td>00:10:16</td>\n",
       "    </tr>\n",
       "    <tr>\n",
       "      <th>4</th>\n",
       "      <td>637.038792</td>\n",
       "      <td>645.463597</td>\n",
       "      <td>00:10:37</td>\n",
       "      <td>00:10:45</td>\n",
       "    </tr>\n",
       "    <tr>\n",
       "      <th>...</th>\n",
       "      <td>...</td>\n",
       "      <td>...</td>\n",
       "      <td>...</td>\n",
       "      <td>...</td>\n",
       "    </tr>\n",
       "    <tr>\n",
       "      <th>79</th>\n",
       "      <td>3173.486856</td>\n",
       "      <td>3176.386063</td>\n",
       "      <td>00:52:53</td>\n",
       "      <td>00:52:56</td>\n",
       "    </tr>\n",
       "    <tr>\n",
       "      <th>80</th>\n",
       "      <td>3226.936325</td>\n",
       "      <td>3229.509701</td>\n",
       "      <td>00:53:46</td>\n",
       "      <td>00:53:49</td>\n",
       "    </tr>\n",
       "    <tr>\n",
       "      <th>81</th>\n",
       "      <td>3295.463389</td>\n",
       "      <td>3298.604160</td>\n",
       "      <td>00:54:55</td>\n",
       "      <td>00:54:58</td>\n",
       "    </tr>\n",
       "    <tr>\n",
       "      <th>82</th>\n",
       "      <td>3393.999232</td>\n",
       "      <td>3395.948022</td>\n",
       "      <td>00:56:33</td>\n",
       "      <td>00:56:35</td>\n",
       "    </tr>\n",
       "    <tr>\n",
       "      <th>83</th>\n",
       "      <td>3573.899275</td>\n",
       "      <td>3576.077295</td>\n",
       "      <td>00:59:33</td>\n",
       "      <td>00:59:36</td>\n",
       "    </tr>\n",
       "  </tbody>\n",
       "</table>\n",
       "<p>84 rows × 4 columns</p>\n",
       "</div>"
      ],
      "text/plain": [
       "          start          end start_hhmmss end_hhmmss\n",
       "0    499.886806   502.648100     00:08:19   00:08:22\n",
       "1    546.038048   569.220135     00:09:06   00:09:29\n",
       "2    585.483085   590.954463     00:09:45   00:09:50\n",
       "3    602.695070   616.894206     00:10:02   00:10:16\n",
       "4    637.038792   645.463597     00:10:37   00:10:45\n",
       "..          ...          ...          ...        ...\n",
       "79  3173.486856  3176.386063     00:52:53   00:52:56\n",
       "80  3226.936325  3229.509701     00:53:46   00:53:49\n",
       "81  3295.463389  3298.604160     00:54:55   00:54:58\n",
       "82  3393.999232  3395.948022     00:56:33   00:56:35\n",
       "83  3573.899275  3576.077295     00:59:33   00:59:36\n",
       "\n",
       "[84 rows x 4 columns]"
      ]
     },
     "execution_count": 108,
     "metadata": {},
     "output_type": "execute_result"
    }
   ],
   "source": [
    "df = df.reset_index()\n",
    "def ss_to_hhmmss(seconds):\n",
    "    hours = int(seconds // 3600)\n",
    "    minutes = int((seconds % 3600) // 60)\n",
    "    seconds = int(seconds % 60)\n",
    "    return f\"{hours:02}:{minutes:02}:{seconds:02}\"\n",
    "merged_intervals = []\n",
    "\n",
    "# Start with the first interval\n",
    "current_start = df['start'].values[0]\n",
    "current_end = df['end'].values[0]\n",
    "\n",
    "# Iterate through the DataFrame rows\n",
    "for i in range(1, len(df)):\n",
    "    row_start = df.loc[i, 'start']\n",
    "    row_end = df.loc[i, 'end']\n",
    "\n",
    "    # If the current interval overlaps with the previous one, merge them\n",
    "    if row_start <= current_end:\n",
    "        current_end = max(current_end, row_end)  # Update the end of the merged interval\n",
    "    else:\n",
    "        # No overlap, add the previous interval and start a new one\n",
    "        merged_intervals.append([current_start, current_end])\n",
    "        current_start = row_start\n",
    "        current_end = row_end\n",
    "\n",
    "# Append the last interval\n",
    "merged_intervals.append([current_start, current_end])\n",
    "\n",
    "# Create a new DataFrame from the merged intervals\n",
    "merged_df = pd.DataFrame(merged_intervals, columns=['start', 'end'])\n",
    "merged_df = merged_df.assign(start_hhmmss=merged_df['start'].apply(ss_to_hhmmss))\n",
    "merged_df = merged_df.assign(end_hhmmss=merged_df['end'].apply(ss_to_hhmmss))\n",
    "merged_df"
   ]
  },
  {
   "cell_type": "code",
   "execution_count": 109,
   "id": "8ba3c816",
   "metadata": {},
   "outputs": [],
   "source": [
    "merged_df.to_csv('./data/ginting_axelsen_hauptprojekt_full_match_binary.csv', index=False)"
   ]
  },
  {
   "cell_type": "code",
   "execution_count": 110,
   "id": "43c8407b",
   "metadata": {},
   "outputs": [],
   "source": [
    "merged_df[['start_hhmmss', 'end_hhmmss']].to_csv('./trimming/clips.csv', index=False)"
   ]
  },
  {
   "cell_type": "code",
   "execution_count": null,
   "id": "5a89ef3b",
   "metadata": {},
   "outputs": [],
   "source": []
  }
 ],
 "metadata": {
  "kernelspec": {
   "display_name": "e2etad",
   "language": "python",
   "name": "python3"
  },
  "language_info": {
   "codemirror_mode": {
    "name": "ipython",
    "version": 3
   },
   "file_extension": ".py",
   "mimetype": "text/x-python",
   "name": "python",
   "nbconvert_exporter": "python",
   "pygments_lexer": "ipython3",
   "version": "3.8.19"
  }
 },
 "nbformat": 4,
 "nbformat_minor": 5
}
