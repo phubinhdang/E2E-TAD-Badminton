{
 "cells": [
  {
   "cell_type": "code",
   "execution_count": 41,
   "id": "initial_id",
   "metadata": {
    "ExecuteTime": {
     "end_time": "2024-10-09T11:49:44.234089Z",
     "start_time": "2024-10-09T11:49:43.498618Z"
    },
    "collapsed": true
   },
   "outputs": [],
   "source": [
    "import json\n",
    "\n",
    "from torch.nn.quantized.functional import threshold\n",
    "\n",
    "with open('../data/output/badminton/lanier_qi_detection_raw.json') as f:\n",
    "    d = json.load(f)    "
   ]
  },
  {
   "cell_type": "code",
   "execution_count": 42,
   "id": "35ea45e60e36f0a7",
   "metadata": {
    "ExecuteTime": {
     "end_time": "2024-10-09T11:49:44.247665Z",
     "start_time": "2024-10-09T11:49:44.242417Z"
    }
   },
   "outputs": [],
   "source": [
    "match_name = \"lanier_qi\"\n",
    "pred_segs = []\n",
    "segs = d[\"results\"][match_name]\n",
    "for seg in segs:\n",
    "    pred_segs.append({\"start\": seg[\"segment\"][0], \"end\": seg[\"segment\"][1], \"score\": seg[\"score\"]})"
   ]
  },
  {
   "cell_type": "code",
   "execution_count": 43,
   "id": "6eefb2b1a08b8484",
   "metadata": {
    "ExecuteTime": {
     "end_time": "2024-10-09T11:49:44.514574Z",
     "start_time": "2024-10-09T11:49:44.306201Z"
    }
   },
   "outputs": [
    {
     "data": {
      "text/html": [
       "<div>\n",
       "<style scoped>\n",
       "    .dataframe tbody tr th:only-of-type {\n",
       "        vertical-align: middle;\n",
       "    }\n",
       "\n",
       "    .dataframe tbody tr th {\n",
       "        vertical-align: top;\n",
       "    }\n",
       "\n",
       "    .dataframe thead th {\n",
       "        text-align: right;\n",
       "    }\n",
       "</style>\n",
       "<table border=\"1\" class=\"dataframe\">\n",
       "  <thead>\n",
       "    <tr style=\"text-align: right;\">\n",
       "      <th></th>\n",
       "      <th>start</th>\n",
       "      <th>end</th>\n",
       "      <th>score</th>\n",
       "    </tr>\n",
       "  </thead>\n",
       "  <tbody>\n",
       "    <tr>\n",
       "      <th>0</th>\n",
       "      <td>11.765437</td>\n",
       "      <td>12.890096</td>\n",
       "      <td>0.287306</td>\n",
       "    </tr>\n",
       "    <tr>\n",
       "      <th>1</th>\n",
       "      <td>19.933846</td>\n",
       "      <td>21.204006</td>\n",
       "      <td>0.206040</td>\n",
       "    </tr>\n",
       "    <tr>\n",
       "      <th>2</th>\n",
       "      <td>3.865014</td>\n",
       "      <td>4.961907</td>\n",
       "      <td>0.139373</td>\n",
       "    </tr>\n",
       "    <tr>\n",
       "      <th>3</th>\n",
       "      <td>21.039192</td>\n",
       "      <td>22.137968</td>\n",
       "      <td>0.099632</td>\n",
       "    </tr>\n",
       "    <tr>\n",
       "      <th>4</th>\n",
       "      <td>31.254386</td>\n",
       "      <td>32.380405</td>\n",
       "      <td>0.277564</td>\n",
       "    </tr>\n",
       "    <tr>\n",
       "      <th>...</th>\n",
       "      <td>...</td>\n",
       "      <td>...</td>\n",
       "      <td>...</td>\n",
       "    </tr>\n",
       "    <tr>\n",
       "      <th>1239</th>\n",
       "      <td>5953.107892</td>\n",
       "      <td>5954.171830</td>\n",
       "      <td>0.091387</td>\n",
       "    </tr>\n",
       "    <tr>\n",
       "      <th>1240</th>\n",
       "      <td>5962.430165</td>\n",
       "      <td>5963.646153</td>\n",
       "      <td>0.465890</td>\n",
       "    </tr>\n",
       "    <tr>\n",
       "      <th>1241</th>\n",
       "      <td>5955.978836</td>\n",
       "      <td>5957.216056</td>\n",
       "      <td>0.425225</td>\n",
       "    </tr>\n",
       "    <tr>\n",
       "      <th>1242</th>\n",
       "      <td>5972.630566</td>\n",
       "      <td>5973.800762</td>\n",
       "      <td>0.042801</td>\n",
       "    </tr>\n",
       "    <tr>\n",
       "      <th>1243</th>\n",
       "      <td>5973.524517</td>\n",
       "      <td>5974.777306</td>\n",
       "      <td>0.031970</td>\n",
       "    </tr>\n",
       "  </tbody>\n",
       "</table>\n",
       "<p>1244 rows × 3 columns</p>\n",
       "</div>"
      ],
      "text/plain": [
       "            start          end     score\n",
       "0       11.765437    12.890096  0.287306\n",
       "1       19.933846    21.204006  0.206040\n",
       "2        3.865014     4.961907  0.139373\n",
       "3       21.039192    22.137968  0.099632\n",
       "4       31.254386    32.380405  0.277564\n",
       "...           ...          ...       ...\n",
       "1239  5953.107892  5954.171830  0.091387\n",
       "1240  5962.430165  5963.646153  0.465890\n",
       "1241  5955.978836  5957.216056  0.425225\n",
       "1242  5972.630566  5973.800762  0.042801\n",
       "1243  5973.524517  5974.777306  0.031970\n",
       "\n",
       "[1244 rows x 3 columns]"
      ]
     },
     "execution_count": 43,
     "metadata": {},
     "output_type": "execute_result"
    }
   ],
   "source": [
    "import pandas as pd\n",
    "\n",
    "df = pd.DataFrame(pred_segs)\n",
    "df"
   ]
  },
  {
   "cell_type": "code",
   "execution_count": 44,
   "id": "38f7bc3427332a3b",
   "metadata": {
    "ExecuteTime": {
     "end_time": "2024-10-09T11:49:44.561270Z",
     "start_time": "2024-10-09T11:49:44.557121Z"
    }
   },
   "outputs": [],
   "source": [
    "threshold = 0.9\n",
    "df = df[df['score'] > threshold]"
   ]
  },
  {
   "cell_type": "code",
   "execution_count": 45,
   "id": "627832db5246019c",
   "metadata": {
    "ExecuteTime": {
     "end_time": "2024-10-09T11:49:45.932561Z",
     "start_time": "2024-10-09T11:49:44.808811Z"
    }
   },
   "outputs": [
    {
     "data": {
      "text/plain": [
       "[<matplotlib.lines.Line2D at 0x778cf80ecee0>]"
      ]
     },
     "execution_count": 45,
     "metadata": {},
     "output_type": "execute_result"
    },
    {
     "data": {
      "image/png": "[encoded data removed]",
      "text/plain": [
       "<Figure size 640x480 with 1 Axes>"
      ]
     },
     "metadata": {},
     "output_type": "display_data"
    }
   ],
   "source": [
    "import matplotlib.pyplot as plt\n",
    "plt.plot(df['score'], \".\")"
   ]
  },
  {
   "cell_type": "code",
   "execution_count": 46,
   "id": "eb1411e2",
   "metadata": {},
   "outputs": [],
   "source": [
    "df = df.reset_index()\n",
    "def ss_to_hhmmss(seconds):\n",
    "    hours = int(seconds // 3600)\n",
    "    minutes = int((seconds % 3600) // 60)\n",
    "    seconds = int(seconds % 60)\n",
    "    return f\"{hours:02}:{minutes:02}:{seconds:02}\"\n",
    "df = df.assign(start_hhmmss=df['start'].apply(ss_to_hhmmss))\n",
    "df = df.assign(end_hhmmss=df['end'].apply(ss_to_hhmmss))"
   ]
  },
  {
   "cell_type": "code",
   "execution_count": 47,
   "id": "0d86159c",
   "metadata": {},
   "outputs": [
    {
     "data": {
      "text/plain": [
       "<bound method NDFrame.tail of      index        start          end     score start_hhmmss end_hhmmss\n",
       "0       32   166.833856   168.798127  0.953569     00:02:46   00:02:48\n",
       "1       60   301.672099   303.146022  0.936022     00:05:01   00:05:03\n",
       "2       64   319.127711   321.565562  0.933433     00:05:19   00:05:21\n",
       "3       80   392.523483   395.565829  0.972539     00:06:32   00:06:35\n",
       "4       88   439.231808   444.397335  0.937284     00:07:19   00:07:24\n",
       "..     ...          ...          ...       ...          ...        ...\n",
       "179   1176  5660.205623  5666.065459  0.956414     01:34:20   01:34:26\n",
       "180   1180  5681.496271  5686.456171  0.979620     01:34:41   01:34:46\n",
       "181   1188  5703.845629  5709.324747  0.970601     01:35:03   01:35:09\n",
       "182   1196  5752.083908  5757.295998  0.976935     01:35:52   01:35:57\n",
       "183   1212  5817.671089  5824.789373  0.914459     01:36:57   01:37:04\n",
       "\n",
       "[184 rows x 6 columns]>"
      ]
     },
     "execution_count": 47,
     "metadata": {},
     "output_type": "execute_result"
    }
   ],
   "source": [
    "df.tail"
   ]
  },
  {
   "cell_type": "code",
   "execution_count": 48,
   "id": "11f939ea",
   "metadata": {},
   "outputs": [
    {
     "data": {
      "text/html": [
       "<div>\n",
       "<style scoped>\n",
       "    .dataframe tbody tr th:only-of-type {\n",
       "        vertical-align: middle;\n",
       "    }\n",
       "\n",
       "    .dataframe tbody tr th {\n",
       "        vertical-align: top;\n",
       "    }\n",
       "\n",
       "    .dataframe thead th {\n",
       "        text-align: right;\n",
       "    }\n",
       "</style>\n",
       "<table border=\"1\" class=\"dataframe\">\n",
       "  <thead>\n",
       "    <tr style=\"text-align: right;\">\n",
       "      <th></th>\n",
       "      <th>start</th>\n",
       "      <th>end</th>\n",
       "      <th>start_hhmmss</th>\n",
       "      <th>end_hhmmss</th>\n",
       "    </tr>\n",
       "  </thead>\n",
       "  <tbody>\n",
       "    <tr>\n",
       "      <th>0</th>\n",
       "      <td>166.833856</td>\n",
       "      <td>168.798127</td>\n",
       "      <td>00:02:46</td>\n",
       "      <td>00:02:48</td>\n",
       "    </tr>\n",
       "    <tr>\n",
       "      <th>1</th>\n",
       "      <td>301.672099</td>\n",
       "      <td>303.146022</td>\n",
       "      <td>00:05:01</td>\n",
       "      <td>00:05:03</td>\n",
       "    </tr>\n",
       "    <tr>\n",
       "      <th>2</th>\n",
       "      <td>319.127711</td>\n",
       "      <td>321.565562</td>\n",
       "      <td>00:05:19</td>\n",
       "      <td>00:05:21</td>\n",
       "    </tr>\n",
       "    <tr>\n",
       "      <th>3</th>\n",
       "      <td>392.523483</td>\n",
       "      <td>395.565829</td>\n",
       "      <td>00:06:32</td>\n",
       "      <td>00:06:35</td>\n",
       "    </tr>\n",
       "    <tr>\n",
       "      <th>4</th>\n",
       "      <td>439.231808</td>\n",
       "      <td>444.397335</td>\n",
       "      <td>00:07:19</td>\n",
       "      <td>00:07:24</td>\n",
       "    </tr>\n",
       "    <tr>\n",
       "      <th>...</th>\n",
       "      <td>...</td>\n",
       "      <td>...</td>\n",
       "      <td>...</td>\n",
       "      <td>...</td>\n",
       "    </tr>\n",
       "    <tr>\n",
       "      <th>133</th>\n",
       "      <td>5660.205623</td>\n",
       "      <td>5666.065459</td>\n",
       "      <td>01:34:20</td>\n",
       "      <td>01:34:26</td>\n",
       "    </tr>\n",
       "    <tr>\n",
       "      <th>134</th>\n",
       "      <td>5681.496271</td>\n",
       "      <td>5686.456171</td>\n",
       "      <td>01:34:41</td>\n",
       "      <td>01:34:46</td>\n",
       "    </tr>\n",
       "    <tr>\n",
       "      <th>135</th>\n",
       "      <td>5703.845629</td>\n",
       "      <td>5709.324747</td>\n",
       "      <td>01:35:03</td>\n",
       "      <td>01:35:09</td>\n",
       "    </tr>\n",
       "    <tr>\n",
       "      <th>136</th>\n",
       "      <td>5752.083908</td>\n",
       "      <td>5757.295998</td>\n",
       "      <td>01:35:52</td>\n",
       "      <td>01:35:57</td>\n",
       "    </tr>\n",
       "    <tr>\n",
       "      <th>137</th>\n",
       "      <td>5817.671089</td>\n",
       "      <td>5824.789373</td>\n",
       "      <td>01:36:57</td>\n",
       "      <td>01:37:04</td>\n",
       "    </tr>\n",
       "  </tbody>\n",
       "</table>\n",
       "<p>138 rows × 4 columns</p>\n",
       "</div>"
      ],
      "text/plain": [
       "           start          end start_hhmmss end_hhmmss\n",
       "0     166.833856   168.798127     00:02:46   00:02:48\n",
       "1     301.672099   303.146022     00:05:01   00:05:03\n",
       "2     319.127711   321.565562     00:05:19   00:05:21\n",
       "3     392.523483   395.565829     00:06:32   00:06:35\n",
       "4     439.231808   444.397335     00:07:19   00:07:24\n",
       "..           ...          ...          ...        ...\n",
       "133  5660.205623  5666.065459     01:34:20   01:34:26\n",
       "134  5681.496271  5686.456171     01:34:41   01:34:46\n",
       "135  5703.845629  5709.324747     01:35:03   01:35:09\n",
       "136  5752.083908  5757.295998     01:35:52   01:35:57\n",
       "137  5817.671089  5824.789373     01:36:57   01:37:04\n",
       "\n",
       "[138 rows x 4 columns]"
      ]
     },
     "execution_count": 48,
     "metadata": {},
     "output_type": "execute_result"
    }
   ],
   "source": [
    "merged_intervals = []\n",
    "\n",
    "# Start with the first interval\n",
    "current_start = df['start'].values[0]\n",
    "current_end = df['end'].values[0]\n",
    "\n",
    "# Iterate through the DataFrame rows\n",
    "for i in range(1, len(df)):\n",
    "    row_start = df.loc[i, 'start']\n",
    "    row_end = df.loc[i, 'end']\n",
    "\n",
    "    # If the current interval overlaps with the previous one, merge them\n",
    "    if row_start <= current_end:\n",
    "        current_end = max(current_end, row_end)  # Update the end of the merged interval\n",
    "    else:\n",
    "        # No overlap, add the previous interval and start a new one\n",
    "        merged_intervals.append([current_start, current_end])\n",
    "        current_start = row_start\n",
    "        current_end = row_end\n",
    "\n",
    "# Append the last interval\n",
    "merged_intervals.append([current_start, current_end])\n",
    "\n",
    "# Create a new DataFrame from the merged intervals\n",
    "merged_df = pd.DataFrame(merged_intervals, columns=['start', 'end'])\n",
    "merged_df = merged_df.assign(start_hhmmss=merged_df['start'].apply(ss_to_hhmmss))\n",
    "merged_df = merged_df.assign(end_hhmmss=merged_df['end'].apply(ss_to_hhmmss))\n",
    "merged_df"
   ]
  },
  {
   "cell_type": "code",
   "execution_count": 9,
   "id": "8ba3c816",
   "metadata": {},
   "outputs": [],
   "source": [
    "# merged_df.to_csv(f'./data/{match_name}_hauptprojekt_full_match_binary.csv', index=False)"
   ]
  },
  {
   "cell_type": "code",
   "execution_count": 32,
   "id": "43c8407b",
   "metadata": {},
   "outputs": [],
   "source": [
    "merged_df[['start_hhmmss', 'end_hhmmss']].to_csv(f'./trimming/data/{match_name}/clips.csv', index=False)"
   ]
  },
  {
   "cell_type": "code",
   "execution_count": 33,
   "id": "5a89ef3b",
   "metadata": {},
   "outputs": [
    {
     "data": {
      "text/html": [
       "<div>\n",
       "<style scoped>\n",
       "    .dataframe tbody tr th:only-of-type {\n",
       "        vertical-align: middle;\n",
       "    }\n",
       "\n",
       "    .dataframe tbody tr th {\n",
       "        vertical-align: top;\n",
       "    }\n",
       "\n",
       "    .dataframe thead th {\n",
       "        text-align: right;\n",
       "    }\n",
       "</style>\n",
       "<table border=\"1\" class=\"dataframe\">\n",
       "  <thead>\n",
       "    <tr style=\"text-align: right;\">\n",
       "      <th></th>\n",
       "      <th>start</th>\n",
       "      <th>end</th>\n",
       "      <th>start_hhmmss</th>\n",
       "      <th>end_hhmmss</th>\n",
       "    </tr>\n",
       "  </thead>\n",
       "  <tbody>\n",
       "    <tr>\n",
       "      <th>0</th>\n",
       "      <td>166.833856</td>\n",
       "      <td>168.798127</td>\n",
       "      <td>00:02:46</td>\n",
       "      <td>00:02:48</td>\n",
       "    </tr>\n",
       "    <tr>\n",
       "      <th>1</th>\n",
       "      <td>195.302826</td>\n",
       "      <td>196.488604</td>\n",
       "      <td>00:03:15</td>\n",
       "      <td>00:03:16</td>\n",
       "    </tr>\n",
       "    <tr>\n",
       "      <th>2</th>\n",
       "      <td>283.680988</td>\n",
       "      <td>285.186637</td>\n",
       "      <td>00:04:43</td>\n",
       "      <td>00:04:45</td>\n",
       "    </tr>\n",
       "    <tr>\n",
       "      <th>3</th>\n",
       "      <td>301.672099</td>\n",
       "      <td>303.146022</td>\n",
       "      <td>00:05:01</td>\n",
       "      <td>00:05:03</td>\n",
       "    </tr>\n",
       "    <tr>\n",
       "      <th>4</th>\n",
       "      <td>319.127711</td>\n",
       "      <td>321.565562</td>\n",
       "      <td>00:05:19</td>\n",
       "      <td>00:05:21</td>\n",
       "    </tr>\n",
       "    <tr>\n",
       "      <th>...</th>\n",
       "      <td>...</td>\n",
       "      <td>...</td>\n",
       "      <td>...</td>\n",
       "      <td>...</td>\n",
       "    </tr>\n",
       "    <tr>\n",
       "      <th>146</th>\n",
       "      <td>5703.818265</td>\n",
       "      <td>5709.324747</td>\n",
       "      <td>01:35:03</td>\n",
       "      <td>01:35:09</td>\n",
       "    </tr>\n",
       "    <tr>\n",
       "      <th>147</th>\n",
       "      <td>5732.438464</td>\n",
       "      <td>5733.692924</td>\n",
       "      <td>01:35:32</td>\n",
       "      <td>01:35:33</td>\n",
       "    </tr>\n",
       "    <tr>\n",
       "      <th>148</th>\n",
       "      <td>5752.083908</td>\n",
       "      <td>5757.295998</td>\n",
       "      <td>01:35:52</td>\n",
       "      <td>01:35:57</td>\n",
       "    </tr>\n",
       "    <tr>\n",
       "      <th>149</th>\n",
       "      <td>5784.412287</td>\n",
       "      <td>5824.789373</td>\n",
       "      <td>01:36:24</td>\n",
       "      <td>01:37:04</td>\n",
       "    </tr>\n",
       "    <tr>\n",
       "      <th>150</th>\n",
       "      <td>5915.666243</td>\n",
       "      <td>5918.011261</td>\n",
       "      <td>01:38:35</td>\n",
       "      <td>01:38:38</td>\n",
       "    </tr>\n",
       "  </tbody>\n",
       "</table>\n",
       "<p>151 rows × 4 columns</p>\n",
       "</div>"
      ],
      "text/plain": [
       "           start          end start_hhmmss end_hhmmss\n",
       "0     166.833856   168.798127     00:02:46   00:02:48\n",
       "1     195.302826   196.488604     00:03:15   00:03:16\n",
       "2     283.680988   285.186637     00:04:43   00:04:45\n",
       "3     301.672099   303.146022     00:05:01   00:05:03\n",
       "4     319.127711   321.565562     00:05:19   00:05:21\n",
       "..           ...          ...          ...        ...\n",
       "146  5703.818265  5709.324747     01:35:03   01:35:09\n",
       "147  5732.438464  5733.692924     01:35:32   01:35:33\n",
       "148  5752.083908  5757.295998     01:35:52   01:35:57\n",
       "149  5784.412287  5824.789373     01:36:24   01:37:04\n",
       "150  5915.666243  5918.011261     01:38:35   01:38:38\n",
       "\n",
       "[151 rows x 4 columns]"
      ]
     },
     "execution_count": 33,
     "metadata": {},
     "output_type": "execute_result"
    }
   ],
   "source": [
    "merged_df"
   ]
  },
  {
   "cell_type": "code",
   "execution_count": null,
   "id": "d20a3163",
   "metadata": {},
   "outputs": [],
   "source": []
  }
 ],
 "metadata": {
  "kernelspec": {
   "display_name": "e2etad",
   "language": "python",
   "name": "python3"
  },
  "language_info": {
   "codemirror_mode": {
    "name": "ipython",
    "version": 3
   },
   "file_extension": ".py",
   "mimetype": "text/x-python",
   "name": "python",
   "nbconvert_exporter": "python",
   "pygments_lexer": "ipython3",
   "version": "3.8.19"
  }
 },
 "nbformat": 4,
 "nbformat_minor": 5
}
